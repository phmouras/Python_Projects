{
 "cells": [
  {
   "cell_type": "code",
   "execution_count": 1,
   "id": "1bc4edae",
   "metadata": {},
   "outputs": [
    {
     "name": "stdout",
     "output_type": "stream",
     "text": [
      "Requirement already satisfied: python-docx in c:\\users\\ppgf29\\anaconda3\\lib\\site-packages (1.0.1)\n",
      "Requirement already satisfied: typing-extensions in c:\\users\\ppgf29\\anaconda3\\lib\\site-packages (from python-docx) (4.3.0)\n",
      "Requirement already satisfied: lxml>=3.1.0 in c:\\users\\ppgf29\\anaconda3\\lib\\site-packages (from python-docx) (4.9.1)\n",
      "Note: you may need to restart the kernel to use updated packages.\n"
     ]
    }
   ],
   "source": [
    "pip install python-docx"
   ]
  },
  {
   "cell_type": "code",
   "execution_count": null,
   "id": "cdfbe1af",
   "metadata": {},
   "outputs": [],
   "source": [
    "import pandas as pd\n",
    "import openpyxl\n",
    "from docx import Document\n",
    "from datetime import datetime\n",
    "\n",
    "#df = pd.read_excel('')\n",
    "\n",
    "display(df"
   ]
  },
  {
   "cell_type": "markdown",
   "id": "8a4e8708",
   "metadata": {},
   "source": [
    "Editar Contrato\n"
   ]
  },
  {
   "cell_type": "code",
   "execution_count": 15,
   "id": "db49ecbe",
   "metadata": {},
   "outputs": [],
   "source": [
    "\n",
    "for linha em df.index:    \n",
    "\n",
    "    doc = Document('CONTRATO_CLIENTE_PERIODO.docx')\n",
    "\n",
    "    nome = df.loc[linha, \"NOME\"] # localizar cada colunas pelos nomes e percorre cada linha\n",
    "    cnpj = df.loc[linha, \"CNPJ\"]\n",
    "    endereco = df.loc[linha, \"ENDERECO\"]\n",
    "    cep = df.loc[linha, \"CEP\"]\n",
    "    cidade = df.loc[linha, \"CIDADE\"]\n",
    "    responsavel = df.loc[linha, \"RESPONSAVEL\"]\n",
    "    wpp_responsavel = df.loc[linha, \"WPP_RESPONSAVEL\"]\n",
    "\n",
    "    referencias = {\n",
    "        \"#NOME\":nome,\n",
    "        \"#CNPJ\":cnpj,\n",
    "        \"#ENDERECO\":endereco,\n",
    "        \"#CEP\":cep,\n",
    "        \"#CIDADE\":cidade,\n",
    "        \"#RESPONSAVEL\":responsavel,\n",
    "        \"#WPP_RESPONSAVEL\":wpp_responsavel,\n",
    "        \"#BI_SEMANA_1\":bi_semana_1,\n",
    "        \"#BI_SEMANA_2\":bi_semana_2,    \n",
    "\n",
    "\n",
    "        '#DD':str(datatime.now().day),\n",
    "        \"#MM\":str(datatime.now().month),\n",
    "        \"#AAAA\":str(datatime.now().day)\n",
    "\n",
    "    }\n",
    "\n",
    "    for paragrafo in doc.paragraphs:\n",
    "        for key in referencias:   \n",
    "            value = referencias[key]    \n",
    "            paragrafo.text = paragrafo.text.replace(key, value)\n",
    "\n",
    "\n",
    "    doc.save(f'Contrato_{nome}.docx') "
   ]
  },
  {
   "cell_type": "code",
   "execution_count": null,
   "id": "4d2e096d",
   "metadata": {},
   "outputs": [],
   "source": []
  }
 ],
 "metadata": {
  "kernelspec": {
   "display_name": "Python 3 (ipykernel)",
   "language": "python",
   "name": "python3"
  },
  "language_info": {
   "codemirror_mode": {
    "name": "ipython",
    "version": 3
   },
   "file_extension": ".py",
   "mimetype": "text/x-python",
   "name": "python",
   "nbconvert_exporter": "python",
   "pygments_lexer": "ipython3",
   "version": "3.11.4"
  }
 },
 "nbformat": 4,
 "nbformat_minor": 5
}
